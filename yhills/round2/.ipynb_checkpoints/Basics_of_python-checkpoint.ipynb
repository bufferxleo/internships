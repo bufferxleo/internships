{
 "cells": [
  {
   "cell_type": "markdown",
   "id": "2e839ac6-458d-4925-a468-fb965729c051",
   "metadata": {},
   "source": [
    "# hi"
   ]
  },
  {
   "cell_type": "markdown",
   "id": "6a688a18-5531-433a-adfa-cf8570112605",
   "metadata": {},
   "source": [
    "## hi"
   ]
  },
  {
   "cell_type": "markdown",
   "id": "730e025e-d609-4260-9858-85a9c1040845",
   "metadata": {},
   "source": [
    "### hi"
   ]
  },
  {
   "cell_type": "markdown",
   "id": "94c4e928-f24d-4041-bd01-bcd666c16965",
   "metadata": {},
   "source": [
    "#### hi"
   ]
  },
  {
   "cell_type": "markdown",
   "id": "62de10f8-6114-4551-80ef-653221f63d15",
   "metadata": {},
   "source": [
    "##### hi"
   ]
  },
  {
   "cell_type": "markdown",
   "id": "297b1d1e-81a2-4a59-82a4-a503386bbfed",
   "metadata": {},
   "source": [
    "###### hi"
   ]
  },
  {
   "cell_type": "code",
   "execution_count": 2,
   "id": "505d4f90-7a4b-450d-bde5-4e45f8548791",
   "metadata": {},
   "outputs": [],
   "source": [
    "#increasing no.of hashes will be decresing the sizez"
   ]
  },
  {
   "cell_type": "markdown",
   "id": "8431eabe-948c-4f73-b48c-0d60ce07ae8f",
   "metadata": {},
   "source": [
    "# rules for naming variables\n",
    "donot start with space   \n",
    "donnot start with number    \n",
    "no space is allowed    \n",
    "only allowed character is underscore   \n",
    "name should be starting with A-Z or a-z or under    score"
   ]
  },
  {
   "cell_type": "code",
   "execution_count": 5,
   "id": "d3cbddb4-32e6-46be-9b7e-37ce9cc72821",
   "metadata": {},
   "outputs": [],
   "source": [
    "# list tuple directory set"
   ]
  },
  {
   "cell_type": "code",
   "execution_count": 6,
   "id": "ec5b7c0b-40c0-4700-ae8f-e30ec37d4aff",
   "metadata": {},
   "outputs": [],
   "source": [
    "# datastructures"
   ]
  },
  {
   "cell_type": "markdown",
   "id": "d4f6aa79-1cbd-4c75-897e-3d5886b04db1",
   "metadata": {},
   "source": [
    "# list"
   ]
  },
  {
   "cell_type": "markdown",
   "id": "54a26c78-25c0-4935-b389-0672c5bcbdc1",
   "metadata": {},
   "source": [
    "square brackets   \n",
    "mutable   retrived \n",
    "can be able to get value using index  \n",
    "index stars from 0"
   ]
  },
  {
   "cell_type": "markdown",
   "id": "77965e6c-c63f-470c-b4a6-ba9d4f372f59",
   "metadata": {},
   "source": [
    "# tuple"
   ]
  },
  {
   "cell_type": "markdown",
   "id": "bbc22842-d890-4617-a128-55c505f50057",
   "metadata": {},
   "source": [
    "paranthesis   \n",
    "values can be retrived using index   \n",
    "index starts from 0    \n",
    "immutable"
   ]
  },
  {
   "cell_type": "markdown",
   "id": "2cea60bf-84a4-4ce3-8df6-38bd5754fe28",
   "metadata": {},
   "source": [
    "# set"
   ]
  },
  {
   "cell_type": "markdown",
   "id": "f94d32ed-371e-4a55-9496-cda1964ae3c8",
   "metadata": {},
   "source": [
    "curly braces   \n",
    "duplicates are not allowed   \n",
    "arranged in order   \n",
    "cannot acess using index  \n",
    "mutable"
   ]
  },
  {
   "cell_type": "markdown",
   "id": "7384de64-3b93-4099-8822-6ecda3acf9c1",
   "metadata": {},
   "source": [
    "# dictionary"
   ]
  },
  {
   "cell_type": "markdown",
   "id": "1fa5f97a-cd40-46d4-87ed-e4f5839b9747",
   "metadata": {},
   "source": [
    "key-value pair will be available  \n",
    "key will be unipue   \n",
    "values can be duplicated     \n",
    "values can be retirved using key   \n",
    "key cannot be used retrived using value    "
   ]
  },
  {
   "cell_type": "code",
   "execution_count": null,
   "id": "5dadeb6b-8d3d-4a70-89cb-73830cd6cac9",
   "metadata": {},
   "outputs": [],
   "source": []
  }
 ],
 "metadata": {
  "kernelspec": {
   "display_name": "Python 3 (ipykernel)",
   "language": "python",
   "name": "python3"
  },
  "language_info": {
   "codemirror_mode": {
    "name": "ipython",
    "version": 3
   },
   "file_extension": ".py",
   "mimetype": "text/x-python",
   "name": "python",
   "nbconvert_exporter": "python",
   "pygments_lexer": "ipython3",
   "version": "3.10.9"
  }
 },
 "nbformat": 4,
 "nbformat_minor": 5
}
