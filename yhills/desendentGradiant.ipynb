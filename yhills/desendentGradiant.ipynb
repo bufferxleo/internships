{
 "cells": [
  {
   "cell_type": "code",
   "execution_count": null,
   "id": "22f2eaa2",
   "metadata": {},
   "outputs": [],
   "source": [
    "import numpy as np\n",
    "x=np.array([92,56,88,70,80,49,65,35,66,67])\n",
    "y=np.array([98,68,81,80,83,52,66,30,68,73])"
   ]
  }
 ],
 "metadata": {
  "kernelspec": {
   "display_name": "Python 3 (ipykernel)",
   "language": "python",
   "name": "python3"
  },
  "language_info": {
   "codemirror_mode": {
    "name": "ipython",
    "version": 3
   },
   "file_extension": ".py",
   "mimetype": "text/x-python",
   "name": "python",
   "nbconvert_exporter": "python",
   "pygments_lexer": "ipython3",
   "version": "3.11.2"
  }
 },
 "nbformat": 4,
 "nbformat_minor": 5
}
