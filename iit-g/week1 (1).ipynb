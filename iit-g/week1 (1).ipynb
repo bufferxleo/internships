{
 "cells": [
  {
   "cell_type": "markdown",
   "metadata": {
    "id": "7t7O3hPJQQ1h"
   },
   "source": [
    "**Welcome to your first assignment of Summer Analytics 2023! We hope you are excited to implement and test everything you have learnt up until now.<a href = \"https://drive.google.com/file/d/1U73P58VAc4EXM98Or9feKnVx9I9FOP_L/view?usp=sharing\"> The dataset</a> which you'll use includes information about Movies.**"
   ]
  },
  {
   "cell_type": "markdown",
   "metadata": {
    "id": "8yDZv8F_QiqH"
   },
   "source": [
    " We've got an interesting set of questions for you to get a basic understanding of pandas and data visualization libraries. GOOD LUCK!\n",
    " \n",
    "Let's get started with importing numpy, pandas, seaborn and matplotlib! "
   ]
  },
  {
   "cell_type": "markdown",
   "metadata": {
    "id": "p-nMuCNQQxx_"
   },
   "source": [
    "Note - matplotlib should be imported with the command :\n",
    "\n",
    "**import matplotlib.pyplot as plt**"
   ]
  },
  {
   "cell_type": "markdown",
   "metadata": {
    "id": "nz8BTfnCRC8v"
   },
   "source": [
    "Start by importing all important libraries"
   ]
  },
  {
   "cell_type": "code",
   "execution_count": 1,
   "metadata": {
    "id": "rKkyeMJiO0up"
   },
   "outputs": [],
   "source": [
    "import pandas as pd\n",
    "import numpy as np\n",
    "import seaborn as sns\n",
    "import matplotlib.pyplot as plt\n",
    "%matplotlib inline"
   ]
  },
  {
   "cell_type": "markdown",
   "metadata": {
    "id": "2N8LabERRONN"
   },
   "source": [
    "Read the csv file and assign it to a variable ."
   ]
  },
  {
   "cell_type": "code",
   "execution_count": 2,
   "metadata": {
    "id": "vnjh3IZmRO72"
   },
   "outputs": [],
   "source": [
    "df=pd.read_csv('/home/bot/Desktop/iit-g/imdb_top_1000.csv',header=0)"
   ]
  },
  {
   "cell_type": "markdown",
   "metadata": {
    "id": "EifdwomBRPxy"
   },
   "source": [
    "Display shape of dataframe"
   ]
  },
  {
   "cell_type": "code",
   "execution_count": 3,
   "metadata": {
    "id": "lM8S9INfRSt3"
   },
   "outputs": [
    {
     "data": {
      "text/plain": [
       "(1000, 17)"
      ]
     },
     "execution_count": 3,
     "metadata": {},
     "output_type": "execute_result"
    }
   ],
   "source": [
    "df.shape"
   ]
  },
  {
   "cell_type": "markdown",
   "metadata": {
    "id": "Q9xTIt54RVTY"
   },
   "source": [
    "Print all columns of dataframe"
   ]
  },
  {
   "cell_type": "code",
   "execution_count": 4,
   "metadata": {
    "id": "kn3VPvn6RV4_"
   },
   "outputs": [
    {
     "data": {
      "text/plain": [
       "Index(['Poster_Link', 'Series_Title', 'Released_Year', 'Certificate',\n",
       "       'Runtime', 'Genre', 'IMDB_Rating', 'Overview', 'Meta_score', 'Director',\n",
       "       'Star1', 'Star2', 'Star3', 'Star4', 'No_of_Votes', 'Gross',\n",
       "       'Unnamed: 16'],\n",
       "      dtype='object')"
      ]
     },
     "execution_count": 4,
     "metadata": {},
     "output_type": "execute_result"
    }
   ],
   "source": [
    "df.columns"
   ]
  },
  {
   "cell_type": "markdown",
   "metadata": {
    "id": "3jtm084KRleN"
   },
   "source": [
    "Remove the column 'Poster_Link' and update the dataframe."
   ]
  },
  {
   "cell_type": "code",
   "execution_count": 5,
   "metadata": {
    "id": "zYIz3q0ARnuU"
   },
   "outputs": [],
   "source": [
    "df.drop(['Poster_Link'],axis=1,inplace=True)"
   ]
  },
  {
   "cell_type": "markdown",
   "metadata": {
    "id": "ss6QYp4YRrfY"
   },
   "source": [
    "Set the 'Series_Title' column as the index of dataframe"
   ]
  },
  {
   "cell_type": "code",
   "execution_count": 6,
   "metadata": {
    "id": "iXNaEmTkR3tB"
   },
   "outputs": [
    {
     "data": {
      "text/html": [
       "<div>\n",
       "<style scoped>\n",
       "    .dataframe tbody tr th:only-of-type {\n",
       "        vertical-align: middle;\n",
       "    }\n",
       "\n",
       "    .dataframe tbody tr th {\n",
       "        vertical-align: top;\n",
       "    }\n",
       "\n",
       "    .dataframe thead th {\n",
       "        text-align: right;\n",
       "    }\n",
       "</style>\n",
       "<table border=\"1\" class=\"dataframe\">\n",
       "  <thead>\n",
       "    <tr style=\"text-align: right;\">\n",
       "      <th></th>\n",
       "      <th>Released_Year</th>\n",
       "      <th>Certificate</th>\n",
       "      <th>Runtime</th>\n",
       "      <th>Genre</th>\n",
       "      <th>IMDB_Rating</th>\n",
       "      <th>Overview</th>\n",
       "      <th>Meta_score</th>\n",
       "      <th>Director</th>\n",
       "      <th>Star1</th>\n",
       "      <th>Star2</th>\n",
       "      <th>Star3</th>\n",
       "      <th>Star4</th>\n",
       "      <th>No_of_Votes</th>\n",
       "      <th>Gross</th>\n",
       "      <th>Unnamed: 16</th>\n",
       "    </tr>\n",
       "    <tr>\n",
       "      <th>Series_Title</th>\n",
       "      <th></th>\n",
       "      <th></th>\n",
       "      <th></th>\n",
       "      <th></th>\n",
       "      <th></th>\n",
       "      <th></th>\n",
       "      <th></th>\n",
       "      <th></th>\n",
       "      <th></th>\n",
       "      <th></th>\n",
       "      <th></th>\n",
       "      <th></th>\n",
       "      <th></th>\n",
       "      <th></th>\n",
       "      <th></th>\n",
       "    </tr>\n",
       "  </thead>\n",
       "  <tbody>\n",
       "    <tr>\n",
       "      <th>The Shawshank Redemption</th>\n",
       "      <td>1994</td>\n",
       "      <td>A</td>\n",
       "      <td>142 min</td>\n",
       "      <td>Drama</td>\n",
       "      <td>9.3</td>\n",
       "      <td>Two imprisoned men bond over a number of years...</td>\n",
       "      <td>80</td>\n",
       "      <td>Frank Darabont</td>\n",
       "      <td>Tim Robbins</td>\n",
       "      <td>Morgan Freeman</td>\n",
       "      <td>Bob Gunton</td>\n",
       "      <td>William Sadler</td>\n",
       "      <td>2343110</td>\n",
       "      <td>28341469.0</td>\n",
       "      <td>NaN</td>\n",
       "    </tr>\n",
       "    <tr>\n",
       "      <th>The Godfather</th>\n",
       "      <td>1972</td>\n",
       "      <td>A</td>\n",
       "      <td>175 min</td>\n",
       "      <td>Crime, Drama</td>\n",
       "      <td>9.2</td>\n",
       "      <td>An organized crime dynasty's aging patriarch t...</td>\n",
       "      <td>100</td>\n",
       "      <td>Francis Ford Coppola</td>\n",
       "      <td>Marlon Brando</td>\n",
       "      <td>Al Pacino</td>\n",
       "      <td>James Caan</td>\n",
       "      <td>Diane Keaton</td>\n",
       "      <td>1620367</td>\n",
       "      <td>134966411.0</td>\n",
       "      <td>NaN</td>\n",
       "    </tr>\n",
       "    <tr>\n",
       "      <th>The Dark Knight</th>\n",
       "      <td>2008</td>\n",
       "      <td>UA</td>\n",
       "      <td>152 min</td>\n",
       "      <td>Action, Crime, Drama</td>\n",
       "      <td>9.0</td>\n",
       "      <td>When the menace known as the Joker wreaks havo...</td>\n",
       "      <td>84</td>\n",
       "      <td>Christopher Nolan</td>\n",
       "      <td>Christian Bale</td>\n",
       "      <td>Heath Ledger</td>\n",
       "      <td>Aaron Eckhart</td>\n",
       "      <td>Michael Caine</td>\n",
       "      <td>2303232</td>\n",
       "      <td>534858444.0</td>\n",
       "      <td>NaN</td>\n",
       "    </tr>\n",
       "    <tr>\n",
       "      <th>The Godfather: Part II</th>\n",
       "      <td>1974</td>\n",
       "      <td>A</td>\n",
       "      <td>202 min</td>\n",
       "      <td>Crime, Drama</td>\n",
       "      <td>9.0</td>\n",
       "      <td>The early life and career of Vito Corleone in ...</td>\n",
       "      <td>90</td>\n",
       "      <td>Francis Ford Coppola</td>\n",
       "      <td>Al Pacino</td>\n",
       "      <td>Robert De Niro</td>\n",
       "      <td>Robert Duvall</td>\n",
       "      <td>Diane Keaton</td>\n",
       "      <td>1129952</td>\n",
       "      <td>57300000.0</td>\n",
       "      <td>NaN</td>\n",
       "    </tr>\n",
       "    <tr>\n",
       "      <th>12 Angry Men</th>\n",
       "      <td>1957</td>\n",
       "      <td>U</td>\n",
       "      <td>96 min</td>\n",
       "      <td>Crime, Drama</td>\n",
       "      <td>9.0</td>\n",
       "      <td>A jury holdout attempts to prevent a miscarria...</td>\n",
       "      <td>96</td>\n",
       "      <td>Sidney Lumet</td>\n",
       "      <td>Henry Fonda</td>\n",
       "      <td>Lee J. Cobb</td>\n",
       "      <td>Martin Balsam</td>\n",
       "      <td>John Fiedler</td>\n",
       "      <td>689845</td>\n",
       "      <td>4360000.0</td>\n",
       "      <td>NaN</td>\n",
       "    </tr>\n",
       "    <tr>\n",
       "      <th>...</th>\n",
       "      <td>...</td>\n",
       "      <td>...</td>\n",
       "      <td>...</td>\n",
       "      <td>...</td>\n",
       "      <td>...</td>\n",
       "      <td>...</td>\n",
       "      <td>...</td>\n",
       "      <td>...</td>\n",
       "      <td>...</td>\n",
       "      <td>...</td>\n",
       "      <td>...</td>\n",
       "      <td>...</td>\n",
       "      <td>...</td>\n",
       "      <td>...</td>\n",
       "      <td>...</td>\n",
       "    </tr>\n",
       "    <tr>\n",
       "      <th>Breakfast at Tiffany's</th>\n",
       "      <td>1961</td>\n",
       "      <td>A</td>\n",
       "      <td>115 min</td>\n",
       "      <td>Comedy, Drama, Romance</td>\n",
       "      <td>7.6</td>\n",
       "      <td>A young New York socialite becomes interested ...</td>\n",
       "      <td>76</td>\n",
       "      <td>Blake Edwards</td>\n",
       "      <td>Audrey Hepburn</td>\n",
       "      <td>George Peppard</td>\n",
       "      <td>Patricia Neal</td>\n",
       "      <td>Buddy Ebsen</td>\n",
       "      <td>166544</td>\n",
       "      <td>NaN</td>\n",
       "      <td>NaN</td>\n",
       "    </tr>\n",
       "    <tr>\n",
       "      <th>Giant</th>\n",
       "      <td>1956</td>\n",
       "      <td>G</td>\n",
       "      <td>201 min</td>\n",
       "      <td>Drama, Western</td>\n",
       "      <td>7.6</td>\n",
       "      <td>Sprawling epic covering the life of a Texas ca...</td>\n",
       "      <td>84</td>\n",
       "      <td>George Stevens</td>\n",
       "      <td>Elizabeth Taylor</td>\n",
       "      <td>Rock Hudson</td>\n",
       "      <td>James Dean</td>\n",
       "      <td>Carroll Baker</td>\n",
       "      <td>34075</td>\n",
       "      <td>NaN</td>\n",
       "      <td>NaN</td>\n",
       "    </tr>\n",
       "    <tr>\n",
       "      <th>From Here to Eternity</th>\n",
       "      <td>1953</td>\n",
       "      <td>Passed</td>\n",
       "      <td>118 min</td>\n",
       "      <td>Drama, Romance, War</td>\n",
       "      <td>7.6</td>\n",
       "      <td>In Hawaii in 1941, a private is cruelly punish...</td>\n",
       "      <td>85</td>\n",
       "      <td>Fred Zinnemann</td>\n",
       "      <td>Burt Lancaster</td>\n",
       "      <td>Montgomery Clift</td>\n",
       "      <td>Deborah Kerr</td>\n",
       "      <td>Donna Reed</td>\n",
       "      <td>43374</td>\n",
       "      <td>30500000.0</td>\n",
       "      <td>NaN</td>\n",
       "    </tr>\n",
       "    <tr>\n",
       "      <th>Lifeboat</th>\n",
       "      <td>1944</td>\n",
       "      <td>NaN</td>\n",
       "      <td>97 min</td>\n",
       "      <td>Drama, War</td>\n",
       "      <td>7.6</td>\n",
       "      <td>Several survivors of a torpedoed merchant ship...</td>\n",
       "      <td>78</td>\n",
       "      <td>Alfred Hitchcock</td>\n",
       "      <td>Tallulah Bankhead</td>\n",
       "      <td>John Hodiak</td>\n",
       "      <td>Walter Slezak</td>\n",
       "      <td>William Bendix</td>\n",
       "      <td>26471</td>\n",
       "      <td>NaN</td>\n",
       "      <td>NaN</td>\n",
       "    </tr>\n",
       "    <tr>\n",
       "      <th>The 39 Steps</th>\n",
       "      <td>1935</td>\n",
       "      <td>NaN</td>\n",
       "      <td>86 min</td>\n",
       "      <td>Crime, Mystery, Thriller</td>\n",
       "      <td>7.6</td>\n",
       "      <td>A man in London tries to help a counter-espion...</td>\n",
       "      <td>93</td>\n",
       "      <td>Alfred Hitchcock</td>\n",
       "      <td>Robert Donat</td>\n",
       "      <td>Madeleine Carroll</td>\n",
       "      <td>Lucie Mannheim</td>\n",
       "      <td>Godfrey Tearle</td>\n",
       "      <td>51853</td>\n",
       "      <td>NaN</td>\n",
       "      <td>NaN</td>\n",
       "    </tr>\n",
       "  </tbody>\n",
       "</table>\n",
       "<p>1000 rows × 15 columns</p>\n",
       "</div>"
      ],
      "text/plain": [
       "                          Released_Year Certificate  Runtime  \\\n",
       "Series_Title                                                   \n",
       "The Shawshank Redemption           1994           A  142 min   \n",
       "The Godfather                      1972           A  175 min   \n",
       "The Dark Knight                    2008          UA  152 min   \n",
       "The Godfather: Part II             1974           A  202 min   \n",
       "12 Angry Men                       1957           U   96 min   \n",
       "...                                 ...         ...      ...   \n",
       "Breakfast at Tiffany's             1961           A  115 min   \n",
       "Giant                              1956           G  201 min   \n",
       "From Here to Eternity              1953      Passed  118 min   \n",
       "Lifeboat                           1944         NaN   97 min   \n",
       "The 39 Steps                       1935         NaN   86 min   \n",
       "\n",
       "                                             Genre  IMDB_Rating  \\\n",
       "Series_Title                                                      \n",
       "The Shawshank Redemption                     Drama          9.3   \n",
       "The Godfather                         Crime, Drama          9.2   \n",
       "The Dark Knight               Action, Crime, Drama          9.0   \n",
       "The Godfather: Part II                Crime, Drama          9.0   \n",
       "12 Angry Men                          Crime, Drama          9.0   \n",
       "...                                            ...          ...   \n",
       "Breakfast at Tiffany's      Comedy, Drama, Romance          7.6   \n",
       "Giant                               Drama, Western          7.6   \n",
       "From Here to Eternity          Drama, Romance, War          7.6   \n",
       "Lifeboat                                Drama, War          7.6   \n",
       "The 39 Steps              Crime, Mystery, Thriller          7.6   \n",
       "\n",
       "                                                                   Overview  \\\n",
       "Series_Title                                                                  \n",
       "The Shawshank Redemption  Two imprisoned men bond over a number of years...   \n",
       "The Godfather             An organized crime dynasty's aging patriarch t...   \n",
       "The Dark Knight           When the menace known as the Joker wreaks havo...   \n",
       "The Godfather: Part II    The early life and career of Vito Corleone in ...   \n",
       "12 Angry Men              A jury holdout attempts to prevent a miscarria...   \n",
       "...                                                                     ...   \n",
       "Breakfast at Tiffany's    A young New York socialite becomes interested ...   \n",
       "Giant                     Sprawling epic covering the life of a Texas ca...   \n",
       "From Here to Eternity     In Hawaii in 1941, a private is cruelly punish...   \n",
       "Lifeboat                  Several survivors of a torpedoed merchant ship...   \n",
       "The 39 Steps              A man in London tries to help a counter-espion...   \n",
       "\n",
       "                         Meta_score              Director              Star1  \\\n",
       "Series_Title                                                                   \n",
       "The Shawshank Redemption         80        Frank Darabont        Tim Robbins   \n",
       "The Godfather                   100  Francis Ford Coppola      Marlon Brando   \n",
       "The Dark Knight                  84     Christopher Nolan     Christian Bale   \n",
       "The Godfather: Part II           90  Francis Ford Coppola          Al Pacino   \n",
       "12 Angry Men                     96          Sidney Lumet        Henry Fonda   \n",
       "...                             ...                   ...                ...   \n",
       "Breakfast at Tiffany's           76         Blake Edwards     Audrey Hepburn   \n",
       "Giant                            84        George Stevens   Elizabeth Taylor   \n",
       "From Here to Eternity            85        Fred Zinnemann     Burt Lancaster   \n",
       "Lifeboat                         78      Alfred Hitchcock  Tallulah Bankhead   \n",
       "The 39 Steps                     93      Alfred Hitchcock       Robert Donat   \n",
       "\n",
       "                                      Star2           Star3           Star4  \\\n",
       "Series_Title                                                                  \n",
       "The Shawshank Redemption     Morgan Freeman      Bob Gunton  William Sadler   \n",
       "The Godfather                     Al Pacino      James Caan    Diane Keaton   \n",
       "The Dark Knight                Heath Ledger   Aaron Eckhart   Michael Caine   \n",
       "The Godfather: Part II       Robert De Niro   Robert Duvall    Diane Keaton   \n",
       "12 Angry Men                    Lee J. Cobb   Martin Balsam    John Fiedler   \n",
       "...                                     ...             ...             ...   \n",
       "Breakfast at Tiffany's       George Peppard   Patricia Neal     Buddy Ebsen   \n",
       "Giant                           Rock Hudson      James Dean   Carroll Baker   \n",
       "From Here to Eternity      Montgomery Clift    Deborah Kerr      Donna Reed   \n",
       "Lifeboat                        John Hodiak   Walter Slezak  William Bendix   \n",
       "The 39 Steps              Madeleine Carroll  Lucie Mannheim  Godfrey Tearle   \n",
       "\n",
       "                         No_of_Votes        Gross  Unnamed: 16  \n",
       "Series_Title                                                    \n",
       "The Shawshank Redemption     2343110   28341469.0          NaN  \n",
       "The Godfather                1620367  134966411.0          NaN  \n",
       "The Dark Knight              2303232  534858444.0          NaN  \n",
       "The Godfather: Part II       1129952   57300000.0          NaN  \n",
       "12 Angry Men                  689845    4360000.0          NaN  \n",
       "...                              ...          ...          ...  \n",
       "Breakfast at Tiffany's        166544          NaN          NaN  \n",
       "Giant                          34075          NaN          NaN  \n",
       "From Here to Eternity          43374   30500000.0          NaN  \n",
       "Lifeboat                       26471          NaN          NaN  \n",
       "The 39 Steps                   51853          NaN          NaN  \n",
       "\n",
       "[1000 rows x 15 columns]"
      ]
     },
     "execution_count": 6,
     "metadata": {},
     "output_type": "execute_result"
    }
   ],
   "source": [
    "l=[]\n",
    "df.index=df.Series_Title\n",
    "df.drop(['Series_Title'],axis=1,inplace=True)\n",
    "df"
   ]
  },
  {
   "cell_type": "markdown",
   "metadata": {
    "id": "f6cj49w0R4PS"
   },
   "source": [
    "Print a list of all the unique Genre"
   ]
  },
  {
   "cell_type": "code",
   "execution_count": 7,
   "metadata": {
    "id": "CO4kbBsySVjr",
    "scrolled": true
   },
   "outputs": [
    {
     "name": "stdout",
     "output_type": "stream",
     "text": [
      "list of all the unique Genre ['Mystery', 'Fantasy', ' Fantasy', 'Biography', ' Adventure', ' Family', ' War', ' Film-Noir', 'Comedy', ' Action', ' Mystery', ' Biography', 'Action', 'Thriller', ' Sport', ' Comedy', 'Crime', ' History', ' Music', 'Adventure', ' Romance', ' Crime', 'Family', ' Drama', ' Thriller', ' Western', ' Musical', 'Film-Noir', ' Sci-Fi', 'Horror', ' Horror', 'Western', 'Animation', 'Drama']\n"
     ]
    }
   ],
   "source": [
    "l=[]\n",
    "l3=[]\n",
    "l1=set(())\n",
    "l2=set(())\n",
    "for i in df['Genre'].str.strip('\"\"'):\n",
    "    l3.append(i.split(\",\"))\n",
    "    l.append(l3)\n",
    "for i in l3:\n",
    "    for j in i:\n",
    "        l2.add(j)\n",
    "l2\n",
    "print('list of all the unique Genre',list(l2))"
   ]
  },
  {
   "cell_type": "markdown",
   "metadata": {
    "id": "Dfj_ZoVBS97W"
   },
   "source": [
    "1. What is the Number of Directors in the given dataset ? "
   ]
  },
  {
   "cell_type": "code",
   "execution_count": 8,
   "metadata": {
    "id": "92f8NLciTIU_"
   },
   "outputs": [
    {
     "name": "stdout",
     "output_type": "stream",
     "text": [
      "Number of Directors in the given dataset is 549\n"
     ]
    }
   ],
   "source": [
    "l=[]\n",
    "l3=[]\n",
    "l2=set(())\n",
    "for i in df['Director'].str.strip('\"\"'):\n",
    "    l3.append(i.split(\",\"))\n",
    "    l.append(l3)\n",
    "for i in l3:\n",
    "    for j in i:\n",
    "        l2.add(j)\n",
    "l2\n",
    "print('Number of Directors in the given dataset is',len(l2))"
   ]
  },
  {
   "cell_type": "markdown",
   "metadata": {
    "id": "5UnvBViyTOc9"
   },
   "source": [
    "2. What is the mean, median and standard deviation of IMDB rating in the dataset ?"
   ]
  },
  {
   "cell_type": "code",
   "execution_count": 9,
   "metadata": {
    "id": "sOL7O83LTg30"
   },
   "outputs": [
    {
     "name": "stdout",
     "output_type": "stream",
     "text": [
      "count    1000.000000\n",
      "mean        7.949300\n",
      "std         0.275491\n",
      "min         7.600000\n",
      "25%         7.700000\n",
      "50%         7.900000\n",
      "75%         8.100000\n",
      "max         9.300000\n",
      "Name: IMDB_Rating, dtype: float64 mean      :  7.949300    /// median    :     7.900000 /// std       :  0.275491 ///\n"
     ]
    }
   ],
   "source": [
    "print(df['IMDB_Rating'].describe(),\n",
    "'mean      :  7.949300    ///',\n",
    "'median    :     7.900000 ///',\n",
    "'std       :  0.275491 ///')"
   ]
  },
  {
   "cell_type": "markdown",
   "metadata": {
    "id": "d_k1zoajTxyx"
   },
   "source": [
    "3. Which director has directed the most number of movies?"
   ]
  },
  {
   "cell_type": "code",
   "execution_count": 10,
   "metadata": {
    "id": "-gvnNqSsT88L"
   },
   "outputs": [],
   "source": [
    "d={}\n",
    "for i in l2:\n",
    "    d[f'{i}']=0\n",
    "for i in l2:\n",
    "    for j in df.Director:\n",
    "        if i in j:\n",
    "            d[f'{i}']+=1\n",
    "            "
   ]
  },
  {
   "cell_type": "code",
   "execution_count": 11,
   "metadata": {},
   "outputs": [
    {
     "name": "stdout",
     "output_type": "stream",
     "text": [
      "14\n",
      "director has directed the most number of movies::: Alfred Hitchcock\n"
     ]
    }
   ],
   "source": [
    "print(max(d.values()))\n",
    "k={}\n",
    "for i in d:\n",
    "    k[d[i]]=i\n",
    "print('director has directed the most number of movies:::',k[max(d.values())])"
   ]
  },
  {
   "cell_type": "markdown",
   "metadata": {
    "id": "zGHeeFZnT-yx"
   },
   "source": [
    "4. Name the Movie which has the highest Runtime ?"
   ]
  },
  {
   "cell_type": "code",
   "execution_count": 12,
   "metadata": {
    "id": "-1BAOzXoUKL1"
   },
   "outputs": [
    {
     "data": {
      "text/plain": [
       "321"
      ]
     },
     "execution_count": 12,
     "metadata": {},
     "output_type": "execute_result"
    }
   ],
   "source": [
    "# np.max(df['Runtime'])\n",
    "# df['Runtime']=df['Runtime'].str.rsplit(' min')\n",
    "# df['Runtime']\n",
    "demo=df['Runtime'].astype(str).str.strip(' min')\n",
    "np.max(demo.astype(int))"
   ]
  },
  {
   "cell_type": "markdown",
   "metadata": {
    "id": "ast-zD1gULUS"
   },
   "source": [
    "5. How many movies are released after year 2000 and have IMDB rating > 8.5 ?"
   ]
  },
  {
   "cell_type": "code",
   "execution_count": 13,
   "metadata": {
    "id": "2SA7L3G-VLom"
   },
   "outputs": [
    {
     "name": "stdout",
     "output_type": "stream",
     "text": [
      "movies are released after year 2000 and have IMDB rating > 8.5 are::: 11\n"
     ]
    }
   ],
   "source": [
    "# df.info()\n",
    "c=0\n",
    "demo1=list(np.where(df['Released_Year']>2000))\n",
    "demo2=list(np.where(df['IMDB_Rating']>8.5))\n",
    "# for i in demo1:\n",
    "#     for j in demo2:\n",
    "#         if i==j:\n",
    "#             c+=1\n",
    "print('movies are released after year 2000 and have IMDB rating > 8.5 are:::',len(np.intersect1d(demo1,demo2)))"
   ]
  },
  {
   "cell_type": "markdown",
   "metadata": {
    "id": "jYq9gv3aUl1u"
   },
   "source": [
    "Using seaborn make different types of plots, observe the trend and answer the questions.\n",
    "6. Make a countplot of Movies directed by top 5 directors."
   ]
  },
  {
   "cell_type": "code",
   "execution_count": 14,
   "metadata": {
    "id": "WOYH5X29ViUR"
   },
   "outputs": [
    {
     "name": "stdout",
     "output_type": "stream",
     "text": [
      "14\n",
      "13\n",
      "11\n",
      "10\n",
      "10\n",
      "9\n",
      "AxesSubplot(0.125,0.11;0.775x0.77)\n"
     ]
    },
    {
     "data": {
      "text/plain": [
       "Alfred Hitchcock    14\n",
       "Steven Spielberg    13\n",
       "Hayao Miyazaki      11\n",
       "Akira Kurosawa      10\n",
       "Stanley Kubrick      9\n",
       "dtype: int64"
      ]
     },
     "execution_count": 14,
     "metadata": {},
     "output_type": "execute_result"
    },
    {
     "data": {
      "image/png": "[encoded data removed]",
      "text/plain": [
       "<Figure size 640x480 with 1 Axes>"
      ]
     },
     "metadata": {},
     "output_type": "display_data"
    }
   ],
   "source": [
    "l=list(d.values())\n",
    "l.sort(reverse=True)\n",
    "for i in l[0:6]:\n",
    "    print(i)\n",
    "data=pd.Series({k[l[0]]:l[0],k[l[1]]:l[1],k[l[2]]:l[2],k[l[3]]:l[3],k[l[5]]:l[5]})\n",
    "# data=pd.Series([k[l[0]],k[l[1]],k[l[2]],k[l[3]],k[l[5]]])\n",
    "print(sns.countplot(x=data))\n",
    "data\n"
   ]
  },
  {
   "cell_type": "markdown",
   "metadata": {
    "id": "caUYiLeHVjIf"
   },
   "source": [
    "7. Make a plot to analyze distribution of IMDB rating?"
   ]
  },
  {
   "cell_type": "code",
   "execution_count": 15,
   "metadata": {
    "id": "c12iHvlLV9PR"
   },
   "outputs": [
    {
     "data": {
      "text/plain": [
       "<AxesSubplot: xlabel='IMDB_Rating', ylabel='Count'>"
      ]
     },
     "execution_count": 15,
     "metadata": {},
     "output_type": "execute_result"
    },
    {
     "data": {
      "image/png": "[encoded data removed]",
      "text/plain": [
       "<Figure size 640x480 with 1 Axes>"
      ]
     },
     "metadata": {},
     "output_type": "display_data"
    }
   ],
   "source": [
    "sns.histplot(df['IMDB_Rating'])"
   ]
  },
  {
   "cell_type": "markdown",
   "metadata": {
    "id": "dXCoPuYlWISU"
   },
   "source": [
    "8. What type of Genre has the highest IMDB rating?"
   ]
  },
  {
   "cell_type": "code",
   "execution_count": 16,
   "metadata": {
    "id": "0r9cKE7fWjBU"
   },
   "outputs": [
    {
     "name": "stdout",
     "output_type": "stream",
     "text": [
      "(array([0]),)\n",
      "ther genre with heighest is Drama\n"
     ]
    },
    {
     "data": {
      "image/png": "[encoded data removed]",
      "text/plain": [
       "<Figure size 640x480 with 1 Axes>"
      ]
     },
     "metadata": {},
     "output_type": "display_data"
    }
   ],
   "source": [
    "# sns.histplot(df['IMDB_Rating'].sort_values())\n",
    "# data1=df['IMDB_Rating'].sort_values()\n",
    "sns.histplot(x=df['Genre'],y=df['IMDB_Rating'])\n",
    "print(np.where(df.IMDB_Rating.max()))\n",
    "print('ther genre with heighest is',df.Genre[0])\n"
   ]
  },
  {
   "cell_type": "markdown",
   "metadata": {
    "id": "Ff2urhAhWrHO"
   },
   "source": [
    "9. Name the top 5 movies that have earned highest Meta score. "
   ]
  },
  {
   "cell_type": "code",
   "execution_count": 17,
   "metadata": {
    "id": "lta342_iWxLd",
    "scrolled": true
   },
   "outputs": [
    {
     "name": "stdout",
     "output_type": "stream",
     "text": [
      "top 5 movies with highest meta score\n",
      "                      movie\n",
      "1             The Godfather\n",
      "50               Casablanca\n",
      "81              Rear Window\n",
      "116      Lawrence of Arabia\n",
      "119                 Vertigo\n",
      "124            Citizen Kane\n",
      "260   Trois couleurs: Rouge\n",
      "274     Fanny och Alexander\n",
      "423          Il conformista\n",
      "440  Sweet Smell of Success\n",
      "491                 Boyhood\n",
      "559               Notorious\n"
     ]
    }
   ],
   "source": [
    "# sns.histplot(y=df.index,x=df.Meta_score)\n",
    "data=df.Meta_score.sort_values()\n",
    "# print(data)\n",
    "data=np.where(df.Meta_score=='100')\n",
    "df['movie']=df.index\n",
    "df.index=range(len(df))\n",
    "df.movie\n",
    "print('top 5 movies with highest meta score')\n",
    "for i in data:\n",
    "    print(df.loc[i,['movie']])"
   ]
  },
  {
   "cell_type": "markdown",
   "metadata": {
    "id": "FPmZIOiwW5Jo"
   },
   "source": [
    "10. Of which Genre movie has the highest Runtime?"
   ]
  },
  {
   "cell_type": "code",
   "execution_count": 24,
   "metadata": {
    "id": "R5a1FemoXJuo"
   },
   "outputs": [
    {
     "data": {
      "text/html": [
       "<div>\n",
       "<style scoped>\n",
       "    .dataframe tbody tr th:only-of-type {\n",
       "        vertical-align: middle;\n",
       "    }\n",
       "\n",
       "    .dataframe tbody tr th {\n",
       "        vertical-align: top;\n",
       "    }\n",
       "\n",
       "    .dataframe thead th {\n",
       "        text-align: right;\n",
       "    }\n",
       "</style>\n",
       "<table border=\"1\" class=\"dataframe\">\n",
       "  <thead>\n",
       "    <tr style=\"text-align: right;\">\n",
       "      <th></th>\n",
       "      <th>Genre</th>\n",
       "    </tr>\n",
       "  </thead>\n",
       "  <tbody>\n",
       "    <tr>\n",
       "      <th>140</th>\n",
       "      <td>Action, Comedy, Crime</td>\n",
       "    </tr>\n",
       "  </tbody>\n",
       "</table>\n",
       "</div>"
      ],
      "text/plain": [
       "                     Genre\n",
       "140  Action, Comedy, Crime"
      ]
     },
     "execution_count": 24,
     "metadata": {},
     "output_type": "execute_result"
    }
   ],
   "source": [
    "demo=df['Runtime'].astype(str).str.strip(' min')\n",
    "np.max(demo.astype(int))\n",
    "# np.where(demo.astype(int)==321)\n",
    "df.loc[np.where(demo.astype(int)==321)[0],['Genre']]"
   ]
  },
  {
   "cell_type": "markdown",
   "metadata": {
    "id": "B_NatnajpeBE"
   },
   "source": [
    "**Using the knowledge about Plotly that you have  try making plots and analyse the data .Whenever you come across an interesting analysis please show the corresponding plot(using Plotly) and comment down your analysis for the same**"
   ]
  },
  {
   "cell_type": "code",
   "execution_count": 35,
   "metadata": {
    "id": "eGoTOAWvpfIu"
   },
   "outputs": [
    {
     "name": "stdout",
     "output_type": "stream",
     "text": [
      "<class 'pandas.core.frame.DataFrame'>\n",
      "RangeIndex: 1000 entries, 0 to 999\n",
      "Data columns (total 16 columns):\n",
      " #   Column         Non-Null Count  Dtype  \n",
      "---  ------         --------------  -----  \n",
      " 0   Released_Year  1000 non-null   int64  \n",
      " 1   Certificate    899 non-null    object \n",
      " 2   Runtime        1000 non-null   object \n",
      " 3   Genre          1000 non-null   object \n",
      " 4   IMDB_Rating    1000 non-null   float64\n",
      " 5   Overview       1000 non-null   object \n",
      " 6   Meta_score     843 non-null    object \n",
      " 7   Director       1000 non-null   object \n",
      " 8   Star1          1000 non-null   object \n",
      " 9   Star2          1000 non-null   object \n",
      " 10  Star3          1000 non-null   object \n",
      " 11  Star4          1000 non-null   object \n",
      " 12  No_of_Votes    1000 non-null   object \n",
      " 13  Gross          831 non-null    float64\n",
      " 14  Unnamed: 16    2 non-null      float64\n",
      " 15  movie          1000 non-null   object \n",
      "dtypes: float64(3), int64(1), object(12)\n",
      "memory usage: 125.1+ KB\n"
     ]
    },
    {
     "data": {
      "image/png": "[encoded data removed]",
      "text/plain": [
       "<Figure size 640x480 with 1 Axes>"
      ]
     },
     "metadata": {},
     "output_type": "display_data"
    }
   ],
   "source": [
    "plt.plot(df.Released_Year,df.Gross,'*')\n",
    "df.info()"
   ]
  },
  {
   "cell_type": "markdown",
   "metadata": {},
   "source": [
    "we can say that the net gross is high at present condition than past befre 2000"
   ]
  },
  {
   "cell_type": "markdown",
   "metadata": {},
   "source": [
    "# thankyou"
   ]
  },
  {
   "cell_type": "code",
   "execution_count": null,
   "metadata": {},
   "outputs": [],
   "source": []
  }
 ],
 "metadata": {
  "colab": {
   "provenance": []
  },
  "kernelspec": {
   "display_name": "Python 3 (ipykernel)",
   "language": "python",
   "name": "python3"
  },
  "language_info": {
   "codemirror_mode": {
    "name": "ipython",
    "version": 3
   },
   "file_extension": ".py",
   "mimetype": "text/x-python",
   "name": "python",
   "nbconvert_exporter": "python",
   "pygments_lexer": "ipython3",
   "version": "3.11.2"
  }
 },
 "nbformat": 4,
 "nbformat_minor": 1
}
