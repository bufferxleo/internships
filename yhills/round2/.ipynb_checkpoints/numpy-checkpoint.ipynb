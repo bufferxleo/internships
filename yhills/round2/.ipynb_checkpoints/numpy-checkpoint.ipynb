{
 "cells": [
  {
   "cell_type": "code",
   "execution_count": 1,
   "id": "676805a6-5055-4a97-80d2-32de959f2e96",
   "metadata": {},
   "outputs": [],
   "source": [
    "import numpy as np"
   ]
  },
  {
   "cell_type": "code",
   "execution_count": 2,
   "id": "0335483f-279b-44bd-a1eb-6b1bc320e4cb",
   "metadata": {},
   "outputs": [
    {
     "data": {
      "text/plain": [
       "array([1, 2, 3])"
      ]
     },
     "execution_count": 2,
     "metadata": {},
     "output_type": "execute_result"
    }
   ],
   "source": [
    "l=[1,2,3]\n",
    "arr=np.array(l)\n",
    "arr"
   ]
  },
  {
   "cell_type": "code",
   "execution_count": 3,
   "id": "30936355-5323-4528-b2fa-8f3db33f84c8",
   "metadata": {},
   "outputs": [
    {
     "data": {
      "text/plain": [
       "array([[1, 2, 3],\n",
       "       [4, 5, 6]])"
      ]
     },
     "execution_count": 3,
     "metadata": {},
     "output_type": "execute_result"
    }
   ],
   "source": [
    "l=[[1,2,3],[4,5,6]]\n",
    "arr1=np.array(l)\n",
    "arr1"
   ]
  },
  {
   "cell_type": "code",
   "execution_count": 4,
   "id": "f636f0dd-763d-4d95-a25f-779253809d9b",
   "metadata": {},
   "outputs": [
    {
     "data": {
      "text/plain": [
       "array([2, 3, 4, 5, 6, 7, 8, 9])"
      ]
     },
     "execution_count": 4,
     "metadata": {},
     "output_type": "execute_result"
    }
   ],
   "source": [
    "np.arange(2,10)"
   ]
  },
  {
   "cell_type": "code",
   "execution_count": 5,
   "id": "21663d68-faa8-4a1f-bacb-a47d31b2dc3a",
   "metadata": {},
   "outputs": [
    {
     "data": {
      "text/plain": [
       "array([2, 5, 8])"
      ]
     },
     "execution_count": 5,
     "metadata": {},
     "output_type": "execute_result"
    }
   ],
   "source": [
    "np.arange(2,10,3)"
   ]
  },
  {
   "cell_type": "code",
   "execution_count": 6,
   "id": "4ee7954d-c3a9-4366-bdbf-cf2386062fd4",
   "metadata": {},
   "outputs": [
    {
     "data": {
      "text/plain": [
       "array([0., 0., 0., 0., 0., 0., 0., 0., 0., 0.])"
      ]
     },
     "execution_count": 6,
     "metadata": {},
     "output_type": "execute_result"
    }
   ],
   "source": [
    "np.zeros(10)"
   ]
  },
  {
   "cell_type": "code",
   "execution_count": 7,
   "id": "bf6eaf43-7b1f-44cf-9464-3794c048a0ff",
   "metadata": {},
   "outputs": [
    {
     "data": {
      "text/plain": [
       "array([0, 0, 0, 0, 0, 0, 0, 0, 0, 0])"
      ]
     },
     "execution_count": 7,
     "metadata": {},
     "output_type": "execute_result"
    }
   ],
   "source": [
    "np.zeros(10,int)"
   ]
  },
  {
   "cell_type": "code",
   "execution_count": 8,
   "id": "bbd9e957-010d-4273-b5b9-6590071c14c2",
   "metadata": {},
   "outputs": [
    {
     "data": {
      "text/plain": [
       "array([1., 1., 1., 1., 1., 1., 1., 1., 1., 1., 1., 1., 1., 1., 1., 1., 1.,\n",
       "       1., 1., 1., 1., 1., 1., 1., 1., 1., 1., 1., 1., 1., 1., 1., 1., 1.,\n",
       "       1., 1., 1., 1., 1., 1., 1., 1., 1., 1., 1., 1., 1., 1., 1., 1., 1.,\n",
       "       1., 1., 1., 1., 1., 1., 1., 1., 1., 1., 1., 1., 1., 1., 1., 1., 1.,\n",
       "       1., 1., 1., 1., 1., 1., 1., 1., 1., 1., 1., 1., 1., 1., 1., 1., 1.,\n",
       "       1., 1., 1., 1., 1., 1., 1., 1., 1., 1., 1., 1., 1., 1., 1.])"
      ]
     },
     "execution_count": 8,
     "metadata": {},
     "output_type": "execute_result"
    }
   ],
   "source": [
    "np.ones(100)"
   ]
  },
  {
   "cell_type": "code",
   "execution_count": 9,
   "id": "26c10ea4-0240-4207-88eb-d07ab7457b9e",
   "metadata": {},
   "outputs": [
    {
     "data": {
      "text/plain": [
       "array([[0., 0., 0.],\n",
       "       [0., 0., 0.]])"
      ]
     },
     "execution_count": 9,
     "metadata": {},
     "output_type": "execute_result"
    }
   ],
   "source": [
    "np.zeros((2,3))"
   ]
  },
  {
   "cell_type": "code",
   "execution_count": 10,
   "id": "ee3e6b5b-1fa2-4109-9b13-e45ee11f2fd9",
   "metadata": {},
   "outputs": [
    {
     "data": {
      "text/plain": [
       "array([0.  , 0.25, 0.5 , 0.75, 1.  ])"
      ]
     },
     "execution_count": 10,
     "metadata": {},
     "output_type": "execute_result"
    }
   ],
   "source": [
    "np.linspace(0,1,5)"
   ]
  },
  {
   "cell_type": "code",
   "execution_count": 11,
   "id": "94a052ec-2b7b-433e-a7de-23dc86680de3",
   "metadata": {},
   "outputs": [
    {
     "data": {
      "text/plain": [
       "array([0.        , 0.33333333, 0.66666667, 1.        ])"
      ]
     },
     "execution_count": 11,
     "metadata": {},
     "output_type": "execute_result"
    }
   ],
   "source": [
    "np.linspace(0,1,4)"
   ]
  },
  {
   "cell_type": "code",
   "execution_count": 12,
   "id": "6150c851-8d94-49de-8a70-18f56ca784f1",
   "metadata": {},
   "outputs": [
    {
     "data": {
      "text/plain": [
       "array([[0.90446058, 0.51171881, 0.06251415, 0.17301604, 0.07419261],\n",
       "       [0.81492563, 0.62502463, 0.68368535, 0.04799426, 0.26364212],\n",
       "       [0.62928237, 0.31224391, 0.59009028, 0.85254491, 0.24645478]])"
      ]
     },
     "execution_count": 12,
     "metadata": {},
     "output_type": "execute_result"
    }
   ],
   "source": [
    "np.random.rand(3,5) #random numbers between 0 a 1"
   ]
  },
  {
   "cell_type": "code",
   "execution_count": 13,
   "id": "713abe0c-2c95-4bc1-b65d-129aabf5b86e",
   "metadata": {},
   "outputs": [
    {
     "data": {
      "text/plain": [
       "array([[ 0.43171353,  1.30128283,  1.06118578,  1.20679979, -0.37794097],\n",
       "       [-1.17580273, -1.48473071, -0.00185465,  0.55015121,  0.66877887],\n",
       "       [-1.32155027,  0.40997658, -0.8572277 ,  0.20141922,  0.1102467 ]])"
      ]
     },
     "execution_count": 13,
     "metadata": {},
     "output_type": "execute_result"
    }
   ],
   "source": [
    "np.random.randn(3,5)"
   ]
  },
  {
   "cell_type": "code",
   "execution_count": 14,
   "id": "93781d55-f801-4ddd-a812-a994be0149cc",
   "metadata": {},
   "outputs": [
    {
     "data": {
      "text/plain": [
       "54"
      ]
     },
     "execution_count": 14,
     "metadata": {},
     "output_type": "execute_result"
    }
   ],
   "source": [
    "np.random.randint(1,100)#100 cannot e the output"
   ]
  },
  {
   "cell_type": "code",
   "execution_count": 15,
   "id": "6a7c9bde-d0b6-4f09-afab-85be21332757",
   "metadata": {},
   "outputs": [
    {
     "data": {
      "text/plain": [
       "array([1, 6, 9, 9, 8, 4, 1, 6, 8, 4, 1, 2, 8, 3, 9, 4, 1, 6, 4, 6, 9, 8,\n",
       "       7, 5, 8, 7, 4, 4, 5, 1, 8, 1, 3, 6, 4, 9, 6, 4, 5, 7, 7, 8, 4, 7,\n",
       "       1, 6, 4, 5, 1, 4, 4, 5, 6, 7, 6, 4, 1, 2, 6, 6, 4, 1, 6, 5, 8, 7,\n",
       "       8, 4, 5, 8, 6, 2, 1, 7, 9, 6, 1, 8, 5, 9, 6, 9, 5, 6, 8, 3, 2, 2,\n",
       "       8, 9, 3, 2, 7, 5, 6, 4, 8, 2, 5, 7])"
      ]
     },
     "execution_count": 15,
     "metadata": {},
     "output_type": "execute_result"
    }
   ],
   "source": [
    "np.random.randint(1,10,100)"
   ]
  },
  {
   "cell_type": "code",
   "execution_count": 16,
   "id": "80a1ea43-40d2-4527-aea7-187850e0dd59",
   "metadata": {},
   "outputs": [],
   "source": [
    "arr=np.arange(1,31)"
   ]
  },
  {
   "cell_type": "code",
   "execution_count": 17,
   "id": "f87f8dfa-37aa-4063-b530-5fda02f90320",
   "metadata": {},
   "outputs": [
    {
     "data": {
      "text/plain": [
       "array([ 1,  2,  3,  4,  5,  6,  7,  8,  9, 10, 11, 12, 13, 14, 15, 16, 17,\n",
       "       18, 19, 20, 21, 22, 23, 24, 25, 26, 27, 28, 29, 30])"
      ]
     },
     "execution_count": 17,
     "metadata": {},
     "output_type": "execute_result"
    }
   ],
   "source": [
    "arr"
   ]
  },
  {
   "cell_type": "code",
   "execution_count": 18,
   "id": "c4f0adc4-bf66-4783-8c7e-dfae7d7a4620",
   "metadata": {},
   "outputs": [
    {
     "data": {
      "text/plain": [
       "(30,)"
      ]
     },
     "execution_count": 18,
     "metadata": {},
     "output_type": "execute_result"
    }
   ],
   "source": [
    "arr.shape"
   ]
  },
  {
   "cell_type": "code",
   "execution_count": 19,
   "id": "67d556e5-c4e7-4058-8e53-de55d911d34f",
   "metadata": {},
   "outputs": [
    {
     "data": {
      "text/plain": [
       "array([[ 1,  2,  3,  4,  5,  6],\n",
       "       [ 7,  8,  9, 10, 11, 12],\n",
       "       [13, 14, 15, 16, 17, 18],\n",
       "       [19, 20, 21, 22, 23, 24],\n",
       "       [25, 26, 27, 28, 29, 30]])"
      ]
     },
     "execution_count": 19,
     "metadata": {},
     "output_type": "execute_result"
    }
   ],
   "source": [
    "arr.reshape(5,6)"
   ]
  },
  {
   "cell_type": "code",
   "execution_count": 20,
   "id": "d242689b-7388-4d94-902b-a76da174745e",
   "metadata": {},
   "outputs": [
    {
     "data": {
      "text/plain": [
       "30"
      ]
     },
     "execution_count": 20,
     "metadata": {},
     "output_type": "execute_result"
    }
   ],
   "source": [
    "arr.max()"
   ]
  },
  {
   "cell_type": "code",
   "execution_count": 21,
   "id": "7459b410-17c7-4a70-8791-fa2e6dc08d58",
   "metadata": {},
   "outputs": [
    {
     "data": {
      "text/plain": [
       "29"
      ]
     },
     "execution_count": 21,
     "metadata": {},
     "output_type": "execute_result"
    }
   ],
   "source": [
    "arr.argmax()  #index at whihc the max value is present"
   ]
  },
  {
   "cell_type": "code",
   "execution_count": 23,
   "id": "7ee9131d-f469-48e1-bef3-83dd7dc8c02a",
   "metadata": {},
   "outputs": [
    {
     "data": {
      "text/plain": [
       "array([[1., 0., 0.],\n",
       "       [0., 1., 0.],\n",
       "       [0., 0., 1.]])"
      ]
     },
     "execution_count": 23,
     "metadata": {},
     "output_type": "execute_result"
    }
   ],
   "source": [
    "np.eye(3)"
   ]
  },
  {
   "cell_type": "code",
   "execution_count": 24,
   "id": "4b116186-4b92-4c62-8513-de04705c6214",
   "metadata": {},
   "outputs": [],
   "source": [
    "arr[:3]=20"
   ]
  },
  {
   "cell_type": "code",
   "execution_count": 25,
   "id": "b9e19e8d-fa54-4fe8-bd95-4ec072455ae0",
   "metadata": {},
   "outputs": [
    {
     "data": {
      "text/plain": [
       "array([20, 20, 20,  4,  5,  6,  7,  8,  9, 10, 11, 12, 13, 14, 15, 16, 17,\n",
       "       18, 19, 20, 21, 22, 23, 24, 25, 26, 27, 28, 29, 30])"
      ]
     },
     "execution_count": 25,
     "metadata": {},
     "output_type": "execute_result"
    }
   ],
   "source": [
    "arr"
   ]
  },
  {
   "cell_type": "markdown",
   "id": "3b6d9d42-98a2-4a00-a32d-d769e9d8ef63",
   "metadata": {},
   "source": [
    "# twodimensional array"
   ]
  },
  {
   "cell_type": "code",
   "execution_count": 26,
   "id": "988be8ba-735b-459b-a67c-2abe6c782c8b",
   "metadata": {},
   "outputs": [],
   "source": [
    "arr=np.arange(1,31)"
   ]
  },
  {
   "cell_type": "code",
   "execution_count": 29,
   "id": "95b6a94c-0337-46d5-8d61-79ff86f28e85",
   "metadata": {},
   "outputs": [],
   "source": [
    "arr=arr.reshape(6,5)"
   ]
  },
  {
   "cell_type": "code",
   "execution_count": 30,
   "id": "5bb54259-3e11-4bf0-a071-5d50a3367be2",
   "metadata": {},
   "outputs": [
    {
     "data": {
      "text/plain": [
       "10"
      ]
     },
     "execution_count": 30,
     "metadata": {},
     "output_type": "execute_result"
    }
   ],
   "source": [
    "arr[1,4]"
   ]
  },
  {
   "cell_type": "code",
   "execution_count": 35,
   "id": "ed427a38-f825-42ef-974f-bff2da9f69c9",
   "metadata": {},
   "outputs": [
    {
     "data": {
      "text/plain": [
       "array([[ 4,  6],\n",
       "       [14, 16],\n",
       "       [24, 26],\n",
       "       [34, 36],\n",
       "       [44, 46],\n",
       "       [54, 56]])"
      ]
     },
     "execution_count": 35,
     "metadata": {},
     "output_type": "execute_result"
    }
   ],
   "source": [
    "arr[:,(1,2)]"
   ]
  },
  {
   "cell_type": "code",
   "execution_count": 31,
   "id": "e2746256-24e3-4481-ab1e-891e20c9c4f8",
   "metadata": {},
   "outputs": [],
   "source": [
    "arr+=arr"
   ]
  },
  {
   "cell_type": "code",
   "execution_count": 32,
   "id": "5d42f2a6-435e-4ae6-a41d-ee0269cd90ff",
   "metadata": {},
   "outputs": [],
   "source": [
    "#all above done are applicible to 2 dim array also\n",
    "#ndim"
   ]
  },
  {
   "cell_type": "code",
   "execution_count": 33,
   "id": "102774b6-2568-4b1a-941b-d854de9e6461",
   "metadata": {},
   "outputs": [
    {
     "data": {
      "text/plain": [
       "array([ 2,  4,  6,  8, 10, 12, 14, 16, 18, 20, 22, 24, 26, 28, 30, 32, 34,\n",
       "       36, 38, 40, 42, 44, 46, 48, 50, 52, 54, 56, 58, 60])"
      ]
     },
     "execution_count": 33,
     "metadata": {},
     "output_type": "execute_result"
    }
   ],
   "source": [
    "np.unique(arr)"
   ]
  },
  {
   "cell_type": "code",
   "execution_count": 34,
   "id": "3b479bd7-e0e6-4770-81b6-caea815512e7",
   "metadata": {},
   "outputs": [
    {
     "data": {
      "text/plain": [
       "array([[7.38905610e+00, 5.45981500e+01, 4.03428793e+02, 2.98095799e+03,\n",
       "        2.20264658e+04],\n",
       "       [1.62754791e+05, 1.20260428e+06, 8.88611052e+06, 6.56599691e+07,\n",
       "        4.85165195e+08],\n",
       "       [3.58491285e+09, 2.64891221e+10, 1.95729609e+11, 1.44625706e+12,\n",
       "        1.06864746e+13],\n",
       "       [7.89629602e+13, 5.83461743e+14, 4.31123155e+15, 3.18559318e+16,\n",
       "        2.35385267e+17],\n",
       "       [1.73927494e+18, 1.28516001e+19, 9.49611942e+19, 7.01673591e+20,\n",
       "        5.18470553e+21],\n",
       "       [3.83100800e+22, 2.83075330e+23, 2.09165950e+24, 1.54553894e+25,\n",
       "        1.14200739e+26]])"
      ]
     },
     "execution_count": 34,
     "metadata": {},
     "output_type": "execute_result"
    }
   ],
   "source": [
    "np.exp(arr)"
   ]
  },
  {
   "cell_type": "code",
   "execution_count": 36,
   "id": "70961b07-2b87-46f4-b3d5-c877861d91b4",
   "metadata": {},
   "outputs": [
    {
     "data": {
      "text/plain": [
       "array([[1.41421356, 2.        , 2.44948974, 2.82842712, 3.16227766],\n",
       "       [3.46410162, 3.74165739, 4.        , 4.24264069, 4.47213595],\n",
       "       [4.69041576, 4.89897949, 5.09901951, 5.29150262, 5.47722558],\n",
       "       [5.65685425, 5.83095189, 6.        , 6.164414  , 6.32455532],\n",
       "       [6.4807407 , 6.63324958, 6.78232998, 6.92820323, 7.07106781],\n",
       "       [7.21110255, 7.34846923, 7.48331477, 7.61577311, 7.74596669]])"
      ]
     },
     "execution_count": 36,
     "metadata": {},
     "output_type": "execute_result"
    }
   ],
   "source": [
    "np.sqrt(arr)"
   ]
  },
  {
   "cell_type": "code",
   "execution_count": 37,
   "id": "7c3206aa-6e55-4eba-9009-a4fe8884c73a",
   "metadata": {},
   "outputs": [
    {
     "data": {
      "text/plain": [
       "array([[0.69314718, 1.38629436, 1.79175947, 2.07944154, 2.30258509],\n",
       "       [2.48490665, 2.63905733, 2.77258872, 2.89037176, 2.99573227],\n",
       "       [3.09104245, 3.17805383, 3.25809654, 3.33220451, 3.40119738],\n",
       "       [3.4657359 , 3.52636052, 3.58351894, 3.63758616, 3.68887945],\n",
       "       [3.73766962, 3.78418963, 3.8286414 , 3.87120101, 3.91202301],\n",
       "       [3.95124372, 3.98898405, 4.02535169, 4.06044301, 4.09434456]])"
      ]
     },
     "execution_count": 37,
     "metadata": {},
     "output_type": "execute_result"
    }
   ],
   "source": [
    "np.log(arr)"
   ]
  },
  {
   "cell_type": "code",
   "execution_count": 38,
   "id": "fccd5e99-1014-401b-afba-0aceda2625b2",
   "metadata": {},
   "outputs": [
    {
     "data": {
      "text/plain": [
       "array([[   4,   16,   36,   64,  100],\n",
       "       [ 144,  196,  256,  324,  400],\n",
       "       [ 484,  576,  676,  784,  900],\n",
       "       [1024, 1156, 1296, 1444, 1600],\n",
       "       [1764, 1936, 2116, 2304, 2500],\n",
       "       [2704, 2916, 3136, 3364, 3600]])"
      ]
     },
     "execution_count": 38,
     "metadata": {},
     "output_type": "execute_result"
    }
   ],
   "source": [
    "np.square(arr)"
   ]
  },
  {
   "cell_type": "code",
   "execution_count": 40,
   "id": "5730ab65-09e7-4723-a0a6-e70b2bbe7a4f",
   "metadata": {},
   "outputs": [
    {
     "data": {
      "text/plain": [
       "299.6666666666667"
      ]
     },
     "execution_count": 40,
     "metadata": {},
     "output_type": "execute_result"
    }
   ],
   "source": [
    "np.var(arr)"
   ]
  },
  {
   "cell_type": "code",
   "execution_count": 41,
   "id": "9edbdd4c-a748-457c-93a5-54c7c3fcf742",
   "metadata": {},
   "outputs": [
    {
     "data": {
      "text/plain": [
       "31.0"
      ]
     },
     "execution_count": 41,
     "metadata": {},
     "output_type": "execute_result"
    }
   ],
   "source": [
    "np.mean(arr)"
   ]
  },
  {
   "cell_type": "code",
   "execution_count": 42,
   "id": "a85f29d7-8584-464e-bd9e-7cd8b87913db",
   "metadata": {},
   "outputs": [],
   "source": [
    "arr=np.random.randn(3,4)"
   ]
  },
  {
   "cell_type": "code",
   "execution_count": 43,
   "id": "4f4999e1-30cf-430b-891a-c61f979e8ee5",
   "metadata": {},
   "outputs": [
    {
     "data": {
      "text/plain": [
       "array([[ 2.68,  0.8 ,  0.8 , -0.57],\n",
       "       [-0.34, -0.99, -0.88, -1.74],\n",
       "       [ 1.99, -0.45,  0.21,  0.98]])"
      ]
     },
     "execution_count": 43,
     "metadata": {},
     "output_type": "execute_result"
    }
   ],
   "source": [
    "np.round(arr,decimals=2)"
   ]
  },
  {
   "cell_type": "code",
   "execution_count": null,
   "id": "98e5fc69-1cff-48ac-9481-26a08ea0ad00",
   "metadata": {},
   "outputs": [],
   "source": []
  },
  {
   "cell_type": "code",
   "execution_count": null,
   "id": "61ec03fe-1be5-44a6-b07d-919a6985e948",
   "metadata": {},
   "outputs": [],
   "source": []
  },
  {
   "cell_type": "code",
   "execution_count": null,
   "id": "25d7a430-2193-4616-adc7-66064f13245f",
   "metadata": {},
   "outputs": [],
   "source": []
  }
 ],
 "metadata": {
  "kernelspec": {
   "display_name": "Python 3 (ipykernel)",
   "language": "python",
   "name": "python3"
  },
  "language_info": {
   "codemirror_mode": {
    "name": "ipython",
    "version": 3
   },
   "file_extension": ".py",
   "mimetype": "text/x-python",
   "name": "python",
   "nbconvert_exporter": "python",
   "pygments_lexer": "ipython3",
   "version": "3.10.9"
  }
 },
 "nbformat": 4,
 "nbformat_minor": 5
}
