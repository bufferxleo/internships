{
 "cells": [
  {
   "cell_type": "markdown",
   "id": "dcd316da-a84e-4a1e-bf8d-e2d60c576aed",
   "metadata": {},
   "source": [
    "auto-mpg:\n",
    "import modules\n",
    "load data set\n",
    "origin-> 1 america 2 europe 3 asia\n",
    "hp->?(?->median)\n",
    "origin->one hot encoding\n"
   ]
  },
  {
   "cell_type": "markdown",
   "id": "c37ddc25-4b5f-4c46-9f80-4d10d61d6210",
   "metadata": {},
   "source": [
    "# you know how to do these"
   ]
  },
  {
   "cell_type": "code",
   "execution_count": null,
   "id": "3dc7ae56-8354-43ac-b92b-7a73567d7ed1",
   "metadata": {},
   "outputs": [],
   "source": []
  }
 ],
 "metadata": {
  "kernelspec": {
   "display_name": "Python 3 (ipykernel)",
   "language": "python",
   "name": "python3"
  },
  "language_info": {
   "codemirror_mode": {
    "name": "ipython",
    "version": 3
   },
   "file_extension": ".py",
   "mimetype": "text/x-python",
   "name": "python",
   "nbconvert_exporter": "python",
   "pygments_lexer": "ipython3",
   "version": "3.10.9"
  }
 },
 "nbformat": 4,
 "nbformat_minor": 5
}
