{
 "cells": [
  {
   "cell_type": "markdown",
   "id": "dcd316da-a84e-4a1e-bf8d-e2d60c576aed",
   "metadata": {},
   "source": [
    "auto-mpg:\n",
    "import modules\n",
    "load data set\n",
    "origin-> 1 america 2 europe 3 asia\n",
    "hp->?(?->median)\n",
    "origin->one hot encoding\n"
   ]
  },
  {
   "cell_type": "code",
   "execution_count": null,
   "id": "44d4edbe-b838-4a38-bb4b-93002d4b0e3e",
   "metadata": {},
   "outputs": [],
   "source": []
  }
 ],
 "metadata": {
  "kernelspec": {
   "display_name": "Python 3 (ipykernel)",
   "language": "python",
   "name": "python3"
  },
  "language_info": {
   "codemirror_mode": {
    "name": "ipython",
    "version": 3
   },
   "file_extension": ".py",
   "mimetype": "text/x-python",
   "name": "python",
   "nbconvert_exporter": "python",
   "pygments_lexer": "ipython3",
   "version": "3.10.9"
  }
 },
 "nbformat": 4,
 "nbformat_minor": 5
}
