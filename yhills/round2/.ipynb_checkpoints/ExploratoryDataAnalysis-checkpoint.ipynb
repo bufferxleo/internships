{
 "cells": [
  {
   "cell_type": "code",
   "execution_count": null,
   "id": "11238678",
   "metadata": {},
   "outputs": [],
   "source": [
    "import pandas as pd\n",
    "df=pd.read_csv('/home/bot/Desktop/yhills/datasets/titanic-training-data.csv')\n",
    "import numpy as np\n",
    "df.info()\n",
    "df\n",
    "duplicate=df.duplicated()\n",
    "duplicate.sum()"
   ]
  },
  {
   "cell_type": "code",
   "execution_count": null,
   "id": "3fcd34f7",
   "metadata": {},
   "outputs": [],
   "source": [
    "df.isnull().sum()"
   ]
  },
  {
   "cell_type": "code",
   "execution_count": null,
   "id": "d25ee715",
   "metadata": {},
   "outputs": [],
   "source": [
    "df.dtypes"
   ]
  },
  {
   "cell_type": "code",
   "execution_count": null,
   "id": "3fe52692",
   "metadata": {},
   "outputs": [],
   "source": [
    "df.shape"
   ]
  },
  {
   "cell_type": "code",
   "execution_count": null,
   "id": "54752843",
   "metadata": {},
   "outputs": [],
   "source": [
    "df.drop(['Cabin'],axis=1,inplace=True)\n",
    "df"
   ]
  },
  {
   "cell_type": "code",
   "execution_count": null,
   "id": "b4996cb4",
   "metadata": {},
   "outputs": [],
   "source": [
    "df.Age.median() #age in int replace median"
   ]
  },
  {
   "cell_type": "code",
   "execution_count": null,
   "id": "4d263439",
   "metadata": {},
   "outputs": [],
   "source": [
    "df.Age.replace(np.nan,28,inplace=True)"
   ]
  },
  {
   "cell_type": "code",
   "execution_count": null,
   "id": "37dcb783",
   "metadata": {},
   "outputs": [],
   "source": [
    "df"
   ]
  },
  {
   "cell_type": "code",
   "execution_count": null,
   "id": "b6825881",
   "metadata": {},
   "outputs": [],
   "source": [
    "df.isnull().sum()"
   ]
  },
  {
   "cell_type": "code",
   "execution_count": null,
   "id": "c3f8c93d",
   "metadata": {},
   "outputs": [],
   "source": [
    "#embarked object repalce mode"
   ]
  },
  {
   "cell_type": "code",
   "execution_count": null,
   "id": "7db9a24e",
   "metadata": {},
   "outputs": [],
   "source": [
    "df.Embarked.mode()\n",
    "mode1=df.Embarked.mode()[0]"
   ]
  },
  {
   "cell_type": "code",
   "execution_count": null,
   "id": "d2635da1",
   "metadata": {},
   "outputs": [],
   "source": [
    "# df.Embarked.replace(np.nan,df.Embarked.mode()[0],inplace=True)\n",
    "df.Embarked.replace(np.nan,mode1,inplace=True)"
   ]
  },
  {
   "cell_type": "code",
   "execution_count": null,
   "id": "30e4324c",
   "metadata": {},
   "outputs": [],
   "source": [
    "df.isnull().sum()"
   ]
  },
  {
   "cell_type": "code",
   "execution_count": null,
   "id": "9bfdf18c",
   "metadata": {},
   "outputs": [],
   "source": [
    "df1=pd.read_csv('/home/bot/Desktop/yhills/datasets/auto-mpg.csv')"
   ]
  },
  {
   "cell_type": "code",
   "execution_count": null,
   "id": "d3139253",
   "metadata": {},
   "outputs": [],
   "source": [
    "df1.info()"
   ]
  },
  {
   "cell_type": "code",
   "execution_count": null,
   "id": "cb01db2c",
   "metadata": {},
   "outputs": [],
   "source": [
    "df1.isin(['?']).sum()"
   ]
  },
  {
   "cell_type": "code",
   "execution_count": null,
   "id": "a348f2d1",
   "metadata": {},
   "outputs": [],
   "source": [
    "df1.hp.replace('?',np.nan,inplace=True)"
   ]
  },
  {
   "cell_type": "code",
   "execution_count": null,
   "id": "7e960276",
   "metadata": {},
   "outputs": [],
   "source": [
    "df1.hp.astype(float)"
   ]
  },
  {
   "cell_type": "code",
   "execution_count": null,
   "id": "22595902",
   "metadata": {},
   "outputs": [],
   "source": [
    "median1=df1.hp.median()\n",
    "df1.hp.replace('?',median1,inplace=True)\n",
    "# mode2=df1.hp.mode()\n",
    "# df1.hp.replace('?',mode2[0],inplace=True)"
   ]
  },
  {
   "cell_type": "code",
   "execution_count": null,
   "id": "8e8e8dd8",
   "metadata": {},
   "outputs": [],
   "source": [
    "df1.isin(['?']).sum()"
   ]
  },
  {
   "cell_type": "code",
   "execution_count": null,
   "id": "3fa5d3fc",
   "metadata": {},
   "outputs": [],
   "source": [
    "duplicate=df.duplicated()\n",
    "duplicate.sum()"
   ]
  },
  {
   "cell_type": "code",
   "execution_count": null,
   "id": "e4d737db",
   "metadata": {},
   "outputs": [],
   "source": [
    "duplicate1=df1.duplicated()\n",
    "duplicate1.sum()"
   ]
  },
  {
   "cell_type": "code",
   "execution_count": null,
   "id": "bfe6c5f4",
   "metadata": {},
   "outputs": [],
   "source": [
    "import matplotlib.pyplot as plt\n",
    "print(df1.info())\n",
    "for i in df1.drop(['car name'],axis=1):\n",
    "    plt.title(str(df1[[f'{i}']]))\n",
    "    plt.boxplot(df1[[f'{i}']].astype(float))\n",
    "    plt.show()"
   ]
  },
  {
   "cell_type": "code",
   "execution_count": null,
   "id": "8f7e7cf3",
   "metadata": {},
   "outputs": [],
   "source": [
    "plt.boxplot(df1['mpg'])"
   ]
  },
  {
   "cell_type": "code",
   "execution_count": null,
   "id": "2150b148",
   "metadata": {},
   "outputs": [],
   "source": [
    "def remove_outlier(col):\n",
    "    sorted(col)\n",
    "    q1=col.quantile(0.25)\n",
    "    q3=col.quantile(0.75)\n",
    "    iqr=q3-q1\n",
    "    lowerRange=q1-(1.5*iqr)\n",
    "    higherRange=q3+(1.5*iqr)\n",
    "    return lowerRange,higherRange\n",
    "    "
   ]
  },
  {
   "cell_type": "code",
   "execution_count": null,
   "id": "bd6f64a6",
   "metadata": {},
   "outputs": [],
   "source": [
    "lowincome,upincome=remove_outlier(df1['mpg'])\n",
    "df1['mpg']=np.where(df1['mpg']>upincome,upincome,df1['mpg'])\n",
    "df1['mpg']=np.where(df1['mpg']<lowincome,lowincome,df1['mpg'])"
   ]
  },
  {
   "cell_type": "code",
   "execution_count": null,
   "id": "079f3907",
   "metadata": {},
   "outputs": [],
   "source": [
    "plt.boxplot(df1['mpg'])"
   ]
  },
  {
   "cell_type": "code",
   "execution_count": null,
   "id": "bfe2c107",
   "metadata": {},
   "outputs": [],
   "source": []
  },
  {
   "cell_type": "code",
   "execution_count": null,
   "id": "ed2d066e",
   "metadata": {},
   "outputs": [],
   "source": [
    "# duplicates"
   ]
  },
  {
   "cell_type": "code",
   "execution_count": null,
   "id": "358ff4e9",
   "metadata": {},
   "outputs": [],
   "source": [
    "duplicate=df.duplicated()\n",
    "print(duplicate.sum())\n",
    "df[duplicate]"
   ]
  },
  {
   "cell_type": "code",
   "execution_count": null,
   "id": "35da82d7",
   "metadata": {},
   "outputs": [],
   "source": [
    "df.drop_duplicates(inplace=True)\n",
    "c=df.duplicated()\n",
    "c.sum()"
   ]
  },
  {
   "cell_type": "code",
   "execution_count": null,
   "id": "0847ccfc",
   "metadata": {},
   "outputs": [],
   "source": []
  },
  {
   "cell_type": "code",
   "execution_count": null,
   "id": "da8bd208",
   "metadata": {},
   "outputs": [],
   "source": []
  },
  {
   "cell_type": "code",
   "execution_count": null,
   "id": "be732b94",
   "metadata": {},
   "outputs": [],
   "source": []
  },
  {
   "cell_type": "code",
   "execution_count": null,
   "id": "76e64f3f",
   "metadata": {},
   "outputs": [],
   "source": []
  }
 ],
 "metadata": {
  "kernelspec": {
   "display_name": "Python 3 (ipykernel)",
   "language": "python",
   "name": "python3"
  },
  "language_info": {
   "codemirror_mode": {
    "name": "ipython",
    "version": 3
   },
   "file_extension": ".py",
   "mimetype": "text/x-python",
   "name": "python",
   "nbconvert_exporter": "python",
   "pygments_lexer": "ipython3",
   "version": "3.10.9"
  }
 },
 "nbformat": 4,
 "nbformat_minor": 5
}
